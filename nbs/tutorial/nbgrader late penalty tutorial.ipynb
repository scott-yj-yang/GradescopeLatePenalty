{
 "cells": [
  {
   "cell_type": "markdown",
   "id": "9b122c00",
   "metadata": {},
   "source": [
    "# nbgrader late penalty tutorial\n",
    "\n",
    "> This module process the nbgrader generated csv grades files and the output directories, and use canvas api to post grade to students, with late penalty and the messages."
   ]
  },
  {
   "cell_type": "code",
   "execution_count": null,
   "id": "e675c344",
   "metadata": {},
   "outputs": [],
   "source": [
    "# | hide\n",
    "from nbdev.showdoc import *"
   ]
  },
  {
   "cell_type": "markdown",
   "id": "b76575f0",
   "metadata": {},
   "source": [
    "# How to use"
   ]
  },
  {
   "cell_type": "code",
   "execution_count": null,
   "id": "9994019c",
   "metadata": {},
   "outputs": [],
   "source": [
    "from LatePenalty.nbgrader import nbgrader_grade"
   ]
  },
  {
   "cell_type": "code",
   "execution_count": null,
   "id": "18072a4b",
   "metadata": {},
   "outputs": [
    {
     "data": {
      "text/markdown": [
       "---\n",
       "\n",
       "[source](https://github.com/scott-yj-yang/LatePenalty/blob/main/LatePenalty/nbgrader.py#LNone){target=\"_blank\" style=\"float:right; font-size:smaller\"}\n",
       "\n",
       "### nbgrader_grade\n",
       "\n",
       ">      nbgrader_grade (credentials_fp='', late_exception_fp='',\n",
       ">                      API_URL='https://canvas.ucsd.edu', course_id='',\n",
       ">                      assignment_id=-1, grades_fp='', verbosity=0)\n",
       "\n",
       "*Initialize Canvas Group within a Group Set and its appropriate memberships*\n",
       "\n",
       "|    | **Type** | **Default** | **Details** |\n",
       "| -- | -------- | ----------- | ----------- |\n",
       "| credentials_fp | str |  | credential file path. [Template of the credentials.json](https://github.com/FleischerResearchLab/CanvasGroupy/blob/main/nbs/credentials.json) |\n",
       "| late_exception_fp | str |  | late exception yaml file path. [Template of the late_exception.yaml](https://github.com/scott-yj-yang/GradescopeLatePenalty/tree/main/nbs/api/late_exception.yaml) |\n",
       "| API_URL | str | https://canvas.ucsd.edu | the domain name of canvas |\n",
       "| course_id | str |  | Course ID, can be found in the course url |\n",
       "| assignment_id | int | -1 | assignment id, can be found in the canvas assignment url |\n",
       "| grades_fp | str |  | nbgrader csv grades exports file path |\n",
       "| verbosity | int | 0 | Controls the verbosity: 0 = Silent, 1 = print all messages |"
      ],
      "text/plain": [
       "---\n",
       "\n",
       "[source](https://github.com/scott-yj-yang/LatePenalty/blob/main/LatePenalty/nbgrader.py#LNone){target=\"_blank\" style=\"float:right; font-size:smaller\"}\n",
       "\n",
       "### nbgrader_grade\n",
       "\n",
       ">      nbgrader_grade (credentials_fp='', late_exception_fp='',\n",
       ">                      API_URL='https://canvas.ucsd.edu', course_id='',\n",
       ">                      assignment_id=-1, grades_fp='', verbosity=0)\n",
       "\n",
       "*Initialize Canvas Group within a Group Set and its appropriate memberships*\n",
       "\n",
       "|    | **Type** | **Default** | **Details** |\n",
       "| -- | -------- | ----------- | ----------- |\n",
       "| credentials_fp | str |  | credential file path. [Template of the credentials.json](https://github.com/FleischerResearchLab/CanvasGroupy/blob/main/nbs/credentials.json) |\n",
       "| late_exception_fp | str |  | late exception yaml file path. [Template of the late_exception.yaml](https://github.com/scott-yj-yang/GradescopeLatePenalty/tree/main/nbs/api/late_exception.yaml) |\n",
       "| API_URL | str | https://canvas.ucsd.edu | the domain name of canvas |\n",
       "| course_id | str |  | Course ID, can be found in the course url |\n",
       "| assignment_id | int | -1 | assignment id, can be found in the canvas assignment url |\n",
       "| grades_fp | str |  | nbgrader csv grades exports file path |\n",
       "| verbosity | int | 0 | Controls the verbosity: 0 = Silent, 1 = print all messages |"
      ]
     },
     "execution_count": null,
     "metadata": {},
     "output_type": "execute_result"
    }
   ],
   "source": [
    "show_doc(nbgrader_grade)"
   ]
  },
  {
   "cell_type": "code",
   "execution_count": null,
   "id": "7349031c",
   "metadata": {},
   "outputs": [
    {
     "name": "stdout",
     "output_type": "stream",
     "text": [
      "\u001b[92mAuthorization Successful!\u001b[0m\n",
      "Course Set: \u001b[92m COGS 108 - Data Science in Practice - Fleischer [SP23] \u001b[0m\n",
      "Getting List of Users... This might take a while...\n",
      "Users Fetch Complete! The course has \u001b[94m446\u001b[0m users.\n",
      "Assignment \u001b[92mD1\u001b[0m Link!\n"
     ]
    }
   ],
   "source": [
    "grade = nbgrader_grade(\"../../../credentials.json\",\n",
    "                       late_exception_fp=\"../data/late_exception_nbgrader.yaml\",\n",
    "                       course_id=45023,\n",
    "                       assignment_id=638121,\n",
    "                       grades_fp=\"../data/grades_example.csv\",\n",
    "                       verbosity=1,\n",
    "                      )"
   ]
  },
  {
   "cell_type": "code",
   "execution_count": null,
   "id": "debae991",
   "metadata": {},
   "outputs": [
    {
     "data": {
      "text/html": [
       "<div>\n",
       "<style scoped>\n",
       "    .dataframe tbody tr th:only-of-type {\n",
       "        vertical-align: middle;\n",
       "    }\n",
       "\n",
       "    .dataframe tbody tr th {\n",
       "        vertical-align: top;\n",
       "    }\n",
       "\n",
       "    .dataframe thead th {\n",
       "        text-align: right;\n",
       "    }\n",
       "</style>\n",
       "<table border=\"1\" class=\"dataframe\">\n",
       "  <thead>\n",
       "    <tr style=\"text-align: right;\">\n",
       "      <th></th>\n",
       "      <th>assignment</th>\n",
       "      <th>duedate</th>\n",
       "      <th>timestamp</th>\n",
       "      <th>student_id</th>\n",
       "      <th>last_name</th>\n",
       "      <th>first_name</th>\n",
       "      <th>email</th>\n",
       "      <th>raw_score</th>\n",
       "      <th>late_submission_penalty</th>\n",
       "      <th>score</th>\n",
       "      <th>max_score</th>\n",
       "    </tr>\n",
       "  </thead>\n",
       "  <tbody>\n",
       "    <tr>\n",
       "      <th>0</th>\n",
       "      <td>D1_COGS108_Sp23</td>\n",
       "      <td>2023-04-15 07:59:00</td>\n",
       "      <td>2023-04-11 00:32:28.990983</td>\n",
       "      <td>student_0</td>\n",
       "      <td>NaN</td>\n",
       "      <td>NaN</td>\n",
       "      <td>NaN</td>\n",
       "      <td>2.0</td>\n",
       "      <td>0.0</td>\n",
       "      <td>2.0</td>\n",
       "      <td>2.0</td>\n",
       "    </tr>\n",
       "    <tr>\n",
       "      <th>1</th>\n",
       "      <td>D1_COGS108_Sp23</td>\n",
       "      <td>2023-04-15 07:59:00</td>\n",
       "      <td>2023-04-17 03:59:02.156619</td>\n",
       "      <td>student_1</td>\n",
       "      <td>NaN</td>\n",
       "      <td>NaN</td>\n",
       "      <td>NaN</td>\n",
       "      <td>2.0</td>\n",
       "      <td>0.0</td>\n",
       "      <td>2.0</td>\n",
       "      <td>2.0</td>\n",
       "    </tr>\n",
       "    <tr>\n",
       "      <th>2</th>\n",
       "      <td>D1_COGS108_Sp23</td>\n",
       "      <td>2023-04-15 07:59:00</td>\n",
       "      <td>2023-04-13 02:03:02.382628</td>\n",
       "      <td>student_2</td>\n",
       "      <td>NaN</td>\n",
       "      <td>NaN</td>\n",
       "      <td>NaN</td>\n",
       "      <td>2.0</td>\n",
       "      <td>0.0</td>\n",
       "      <td>2.0</td>\n",
       "      <td>2.0</td>\n",
       "    </tr>\n",
       "    <tr>\n",
       "      <th>3</th>\n",
       "      <td>D1_COGS108_Sp23</td>\n",
       "      <td>2023-04-15 07:59:00</td>\n",
       "      <td>2023-04-14 01:23:48.922147</td>\n",
       "      <td>student_3</td>\n",
       "      <td>NaN</td>\n",
       "      <td>NaN</td>\n",
       "      <td>NaN</td>\n",
       "      <td>2.0</td>\n",
       "      <td>0.0</td>\n",
       "      <td>2.0</td>\n",
       "      <td>2.0</td>\n",
       "    </tr>\n",
       "    <tr>\n",
       "      <th>4</th>\n",
       "      <td>D1_COGS108_Sp23</td>\n",
       "      <td>2023-04-15 07:59:00</td>\n",
       "      <td>2023-04-12 00:45:49.963719</td>\n",
       "      <td>student_4</td>\n",
       "      <td>NaN</td>\n",
       "      <td>NaN</td>\n",
       "      <td>NaN</td>\n",
       "      <td>2.0</td>\n",
       "      <td>0.0</td>\n",
       "      <td>2.0</td>\n",
       "      <td>2.0</td>\n",
       "    </tr>\n",
       "  </tbody>\n",
       "</table>\n",
       "</div>"
      ],
      "text/plain": [
       "        assignment              duedate                   timestamp  \\\n",
       "0  D1_COGS108_Sp23  2023-04-15 07:59:00  2023-04-11 00:32:28.990983   \n",
       "1  D1_COGS108_Sp23  2023-04-15 07:59:00  2023-04-17 03:59:02.156619   \n",
       "2  D1_COGS108_Sp23  2023-04-15 07:59:00  2023-04-13 02:03:02.382628   \n",
       "3  D1_COGS108_Sp23  2023-04-15 07:59:00  2023-04-14 01:23:48.922147   \n",
       "4  D1_COGS108_Sp23  2023-04-15 07:59:00  2023-04-12 00:45:49.963719   \n",
       "\n",
       "  student_id  last_name  first_name  email  raw_score  \\\n",
       "0  student_0        NaN         NaN    NaN        2.0   \n",
       "1  student_1        NaN         NaN    NaN        2.0   \n",
       "2  student_2        NaN         NaN    NaN        2.0   \n",
       "3  student_3        NaN         NaN    NaN        2.0   \n",
       "4  student_4        NaN         NaN    NaN        2.0   \n",
       "\n",
       "   late_submission_penalty  score  max_score  \n",
       "0                      0.0    2.0        2.0  \n",
       "1                      0.0    2.0        2.0  \n",
       "2                      0.0    2.0        2.0  \n",
       "3                      0.0    2.0        2.0  \n",
       "4                      0.0    2.0        2.0  "
      ]
     },
     "execution_count": null,
     "metadata": {},
     "output_type": "execute_result"
    }
   ],
   "source": [
    "# take a look at nbgrader csv file\n",
    "grade.grades.head()"
   ]
  },
  {
   "cell_type": "markdown",
   "id": "3f0374af",
   "metadata": {},
   "source": [
    "## Late Submission Exception"
   ]
  },
  {
   "cell_type": "code",
   "execution_count": null,
   "id": "e35812b7",
   "metadata": {},
   "outputs": [
    {
     "name": "stdout",
     "output_type": "stream",
     "text": [
      "student_1:\n",
      "    allowed_late_days: 7\n",
      "    reasons: sickness\n",
      "\n",
      "student_3:\n",
      "    allowed_late_days: 10\n",
      "    reasons: family issue\n"
     ]
    }
   ],
   "source": [
    "with open(\"../data/late_exception.yaml\", \"r\") as f:\n",
    "    print(f.read())"
   ]
  },
  {
   "cell_type": "code",
   "execution_count": null,
   "id": "84c682a2",
   "metadata": {},
   "outputs": [
    {
     "data": {
      "text/plain": [
       "{'student_1': {'allowed_late_days': 7, 'reasons': 'sickness'},\n",
       " 'student_3': {'allowed_late_days': 10, 'reasons': 'family issue'}}"
      ]
     },
     "execution_count": null,
     "metadata": {},
     "output_type": "execute_result"
    }
   ],
   "source": [
    "grade.late_exception"
   ]
  },
  {
   "cell_type": "markdown",
   "id": "841b05d0",
   "metadata": {},
   "source": [
    "## Post Grades\n",
    "\n",
    "As we can see, the reamining slip day for student 1 and student 3 is 7 and 10 respectively."
   ]
  },
  {
   "cell_type": "code",
   "execution_count": null,
   "id": "987a8fa1",
   "metadata": {},
   "outputs": [
    {
     "data": {
      "text/markdown": [
       "---\n",
       "\n",
       "[source](https://github.com/scott-yj-yang/LatePenalty/blob/main/LatePenalty/nbgrader.py#LNone){target=\"_blank\" style=\"float:right; font-size:smaller\"}\n",
       "\n",
       "### nbgrader_grade.post_to_canvas\n",
       "\n",
       ">      nbgrader_grade.post_to_canvas (target_assignment:str,\n",
       ">                                     passed_assignments:List[str],\n",
       ">                                     student=None, A1_git=False, quarter='',\n",
       ">                                     default_credit:int=7,\n",
       ">                                     late_submission_deadline:int=5, post=True,\n",
       ">                                     force=False)\n",
       "\n",
       "*Post grade to canvas with late penalty.*\n",
       "\n",
       "|    | **Type** | **Default** | **Details** |\n",
       "| -- | -------- | ----------- | ----------- |\n",
       "| target_assignment | str |  | target assignment name to grab the late time. Must in the column of nbgrader assignment csv |\n",
       "| passed_assignments | List |  | list of passed assignment. Must in the column of nbgrader assignment csv |\n",
       "| student | NoneType | None | if specify, only grade that student. |\n",
       "| A1_git | bool | False | Set True if grading A1 for COGS108 |\n",
       "| quarter | str |  | Set the quarter, for example, Fa23, Wi24, etc. |\n",
       "| default_credit | int | 7 | default amount of late days calculated, used in FA24 COGS108 |\n",
       "| late_submission_deadline | int | 5 | the maximum amount of late days that we allow. Implements: We don't accept late submission after 5 days. |\n",
       "| post | bool | True | for testing purposes. Can halt the post operation |\n",
       "| force | bool | False | whether force post grade. If False, will not post the same grade again, if True, will post the grade again. |"
      ],
      "text/plain": [
       "---\n",
       "\n",
       "[source](https://github.com/scott-yj-yang/LatePenalty/blob/main/LatePenalty/nbgrader.py#LNone){target=\"_blank\" style=\"float:right; font-size:smaller\"}\n",
       "\n",
       "### nbgrader_grade.post_to_canvas\n",
       "\n",
       ">      nbgrader_grade.post_to_canvas (target_assignment:str,\n",
       ">                                     passed_assignments:List[str],\n",
       ">                                     student=None, A1_git=False, quarter='',\n",
       ">                                     default_credit:int=7,\n",
       ">                                     late_submission_deadline:int=5, post=True,\n",
       ">                                     force=False)\n",
       "\n",
       "*Post grade to canvas with late penalty.*\n",
       "\n",
       "|    | **Type** | **Default** | **Details** |\n",
       "| -- | -------- | ----------- | ----------- |\n",
       "| target_assignment | str |  | target assignment name to grab the late time. Must in the column of nbgrader assignment csv |\n",
       "| passed_assignments | List |  | list of passed assignment. Must in the column of nbgrader assignment csv |\n",
       "| student | NoneType | None | if specify, only grade that student. |\n",
       "| A1_git | bool | False | Set True if grading A1 for COGS108 |\n",
       "| quarter | str |  | Set the quarter, for example, Fa23, Wi24, etc. |\n",
       "| default_credit | int | 7 | default amount of late days calculated, used in FA24 COGS108 |\n",
       "| late_submission_deadline | int | 5 | the maximum amount of late days that we allow. Implements: We don't accept late submission after 5 days. |\n",
       "| post | bool | True | for testing purposes. Can halt the post operation |\n",
       "| force | bool | False | whether force post grade. If False, will not post the same grade again, if True, will post the grade again. |"
      ]
     },
     "execution_count": null,
     "metadata": {},
     "output_type": "execute_result"
    }
   ],
   "source": [
    "show_doc(nbgrader_grade.post_to_canvas)"
   ]
  },
  {
   "cell_type": "markdown",
   "id": "fb85c87e",
   "metadata": {},
   "source": [
    "Post grade of assignment `D1_COGS108_Sp23`"
   ]
  },
  {
   "cell_type": "code",
   "execution_count": null,
   "id": "f656c3bd",
   "metadata": {},
   "outputs": [
    {
     "name": "stdout",
     "output_type": "stream",
     "text": [
      "\u001b[93mPost Disabled\u001b[0m\n",
      "The message for \u001b[96mstudent_0\u001b[0m is: \n",
      "\u001b[92mD1_COGS108_Sp23: \n",
      "Submitted intime\n",
      "Remaining Slip Credit: 5 Days\u001b[0m\n",
      "\n",
      "\u001b[93mPost Disabled\u001b[0m\n",
      "The message for \u001b[96mstudent_1\u001b[0m is: \n",
      "\u001b[92mD1_COGS108_Sp23: \n",
      "Late Submission: 2 Days Late\n",
      "Slip Credit Used. No late penalty applied\n",
      "Remaining Slip Credit: 5 Days\u001b[0m\n",
      "\n",
      "\u001b[93mPost Disabled\u001b[0m\n",
      "The message for \u001b[96mstudent_2\u001b[0m is: \n",
      "\u001b[92mD1_COGS108_Sp23: \n",
      "Submitted intime\n",
      "Remaining Slip Credit: 5 Days\u001b[0m\n",
      "\n",
      "\u001b[93mPost Disabled\u001b[0m\n",
      "The message for \u001b[96mstudent_3\u001b[0m is: \n",
      "\u001b[92mD1_COGS108_Sp23: \n",
      "Submitted intime\n",
      "Remaining Slip Credit: 10 Days\u001b[0m\n",
      "\n",
      "\u001b[93mPost Disabled\u001b[0m\n",
      "The message for \u001b[96mstudent_4\u001b[0m is: \n",
      "\u001b[92mD1_COGS108_Sp23: \n",
      "Submitted intime\n",
      "Remaining Slip Credit: 5 Days\u001b[0m\n",
      "\n"
     ]
    }
   ],
   "source": [
    "grade.post_to_canvas(\"D1_COGS108_Sp23\", [], False)"
   ]
  },
  {
   "cell_type": "markdown",
   "id": "8259677a",
   "metadata": {},
   "source": [
    "Post grade of assignment `A1_COGS108_Sp23`. Before you post it, you will have to link the canvas assignment to `A1` with the following command."
   ]
  },
  {
   "cell_type": "code",
   "execution_count": null,
   "id": "41a54019",
   "metadata": {},
   "outputs": [
    {
     "data": {
      "text/markdown": [
       "---\n",
       "\n",
       "[source](https://github.com/scott-yj-yang/LatePenalty/blob/main/LatePenalty/nbgrader.py#LNone){target=\"_blank\" style=\"float:right; font-size:smaller\"}\n",
       "\n",
       "### nbgrader_grade.link_assignment\n",
       "\n",
       ">      nbgrader_grade.link_assignment (assignment_id:int)\n",
       "\n",
       "*Link the target assignment on canvas*\n",
       "\n",
       "|    | **Type** | **Details** |\n",
       "| -- | -------- | ----------- |\n",
       "| assignment_id | int | assignment id, found at the url of assignmnet tab |\n",
       "| **Returns** | **Assignment** | **target assignment** |"
      ],
      "text/plain": [
       "---\n",
       "\n",
       "[source](https://github.com/scott-yj-yang/LatePenalty/blob/main/LatePenalty/nbgrader.py#LNone){target=\"_blank\" style=\"float:right; font-size:smaller\"}\n",
       "\n",
       "### nbgrader_grade.link_assignment\n",
       "\n",
       ">      nbgrader_grade.link_assignment (assignment_id:int)\n",
       "\n",
       "*Link the target assignment on canvas*\n",
       "\n",
       "|    | **Type** | **Details** |\n",
       "| -- | -------- | ----------- |\n",
       "| assignment_id | int | assignment id, found at the url of assignmnet tab |\n",
       "| **Returns** | **Assignment** | **target assignment** |"
      ]
     },
     "execution_count": null,
     "metadata": {},
     "output_type": "execute_result"
    }
   ],
   "source": [
    "show_doc(nbgrader_grade.link_assignment)"
   ]
  },
  {
   "cell_type": "code",
   "execution_count": null,
   "id": "3b1e2bf1",
   "metadata": {},
   "outputs": [
    {
     "name": "stdout",
     "output_type": "stream",
     "text": [
      "Assignment \u001b[92mA1\u001b[0m Link!\n"
     ]
    }
   ],
   "source": [
    "_ = grade.link_assignment(638116)"
   ]
  },
  {
   "cell_type": "code",
   "execution_count": null,
   "id": "5321a134",
   "metadata": {},
   "outputs": [
    {
     "name": "stdout",
     "output_type": "stream",
     "text": [
      "\u001b[93mPost Disabled\u001b[0m\n",
      "The message for \u001b[96mstudent_0\u001b[0m is: \n",
      "\u001b[92mA1_COGS108_Sp23: \n",
      "Submitted intime\n",
      "Remaining Slip Credit: 5 Days\u001b[0m\n",
      "\n",
      "\u001b[93mPost Disabled\u001b[0m\n",
      "The message for \u001b[96mstudent_1\u001b[0m is: \n",
      "\u001b[92mA1_COGS108_Sp23: \n",
      "Late Submission: 7 Days Late\n",
      "Insufficient Slip Credit. 25% late penalty applied\n",
      "Remaining Slip Credit: 5 Days\u001b[0m\n",
      "\n",
      "\u001b[93mPost Disabled\u001b[0m\n",
      "The message for \u001b[96mstudent_2\u001b[0m is: \n",
      "\u001b[92mA1_COGS108_Sp23: \n",
      "Submitted intime\n",
      "Remaining Slip Credit: 5 Days\u001b[0m\n",
      "\n",
      "\u001b[93mPost Disabled\u001b[0m\n",
      "The message for \u001b[96mstudent_3\u001b[0m is: \n",
      "\u001b[92mA1_COGS108_Sp23: \n",
      "Submitted intime\n",
      "Remaining Slip Credit: 10 Days\u001b[0m\n",
      "\n",
      "\u001b[93mPost Disabled\u001b[0m\n",
      "The message for \u001b[96mstudent_4\u001b[0m is: \n",
      "\u001b[92mA1_COGS108_Sp23: \n",
      "Submitted intime\n",
      "Remaining Slip Credit: 5 Days\u001b[0m\n",
      "\n"
     ]
    }
   ],
   "source": [
    "grade.post_to_canvas(\"A1_COGS108_Sp23\", [\"D1_COGS108_Sp23\"], False)"
   ]
  }
 ],
 "metadata": {
  "kernelspec": {
   "display_name": "python3",
   "language": "python",
   "name": "python3"
  }
 },
 "nbformat": 4,
 "nbformat_minor": 5
}
